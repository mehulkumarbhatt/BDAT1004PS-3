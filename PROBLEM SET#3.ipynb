{
 "cells": [
  {
   "cell_type": "markdown",
   "metadata": {},
   "source": [
    "# BDAT-1004 -DATA PROGRAMMING\n",
    "PROBLEM SET-3"
   ]
  },
  {
   "cell_type": "markdown",
   "metadata": {},
   "source": [
    "QUESTION-3:\n",
    "\n",
    "Housing\n",
    "\n",
    "Step 1. Import the necessary libraries\n",
    "Step 2. Create 3 differents Series, each of length 100, as follows:\n",
    "• The first a random number from 1 to 4\n",
    "• The second a random number from 1 to 3\n",
    "• The third a random number from 10,000 to 30,000\n",
    "Step 3. Create a DataFrame by joinning the Series by column\n",
    "Step 4. Change the name of the columns to bedrs, bathrs, price_sqr_meter\n",
    "Step 5. Create a one column DataFrame with the values of the 3 Series and assign it to 'bigcolumn'\n",
    "Step 6. Ops it seems it is going only until index 99. Is it true?\n",
    "Step 7. Reindex the DataFrame so it goes from 0 to 299"
   ]
  },
  {
   "cell_type": "code",
   "execution_count": 2,
   "metadata": {},
   "outputs": [
    {
     "name": "stdout",
     "output_type": "stream",
     "text": [
      "   bedrs  bathrs  price_sqr_meter\n",
      "0      2       3            28703\n",
      "1      3       3            21517\n",
      "2      3       3            14094\n",
      "3      2       2            22829\n",
      "4      4       2            26276\n"
     ]
    }
   ],
   "source": [
    "import numpy as np\n",
    "import pandas as pd\n",
    "\n",
    "ser1= pd.Series(np.random.randint(1,5,100))\n",
    "#print(type(ser1))\n",
    "ser2= pd.Series(np.random.randint(1,4,100))\n",
    "#print(type(ser2))\n",
    "ser3= pd.Series(np.random.randint(10000,30000,100))\n",
    "#print(type(ser3))\n",
    "df = pd.concat([ser1, ser2,ser3], axis=1)\n",
    "#print(type(df))\n",
    "#print(df)\n",
    "df_new=df.rename(columns={0: 'bedrs',1:'bathrs',2:'price_sqr_meter'})\n",
    "print(df_new.head())\n",
    "bigcolumn=df_new['bedrs']+df_new['bathrs']+df_new['price_sqr_meter']\n",
    "bigcolumn= pd.concat([ser1, ser2,ser3])\n",
    "\n",
    "\n"
   ]
  },
  {
   "cell_type": "markdown",
   "metadata": {},
   "source": [
    "QUESTION:4\n",
    "\n",
    "Wind Statistics\n",
    "The data have been modified to contain some missing values, identified by NaN.\n",
    "Using pandas should make this exercise easier, in particular for the bonus question.\n",
    "You should be able to perform all of these operations without using a for loop or other looping construct.\n",
    "The data in 'wind.data' has the following format:\n",
    "Yr Mo Dy RPT VAL ROS KIL SHA BIR DUB CLA MUL CLO BEL MAL\n",
    "61 1 1 15.04 14.96 13.17 9.29 NaN 9.87 13.67 10.25 10.83 12.58 18.50 15.04\n",
    "61 1 2 14.71 NaN 10.83 6.50 12.62 7.67 11.50 10.04 9.79 9.67 17.54 13.83\n",
    "61 1 3 18.50 16.88 12.33 10.13 11.17 6.17 11.25 NaN 8.50 7.67 12.75 12.71\n",
    "The first three columns are year, month, and day. The remaining 12 columns are average windspeeds in knots at 12 locations in Ireland on that day.\n",
    "Step 1. Import the necessary libraries\n",
    "Step 2. Import the dataset from this address\n",
    "Step 3. Assign it to a variable called data and replace the first 3 columns by a proper datetime index.\n",
    "Step 4. Year 2061? Do we really have data from this year? Create a function to fix it and apply it.\n",
    "Step 5. Set the right dates as the index. Pay attention at the data type, it should be datetime64[ns].\n",
    "Step 6. Compute how many values are missing for each location over the entire record.They should be ignored in all calculations below.\n",
    "Step 7. Compute how many non-missing values there are in total.\n",
    "Step 8. Calculate the mean windspeeds of the windspeeds over all the locations and all the times.\n",
    "A single number for the entire dataset.\n",
    "Step 9. Create a DataFrame called loc_stats and calculate the min, max and mean windspeeds and standard deviations of the windspeeds at each location over all the days\n",
    "A different set of numbers for each location.\n",
    "Step 10. Create a DataFrame called day_stats and calculate the min, max and mean windspeed and standard deviations of the windspeeds across all the locations at each day.\n",
    "A different set of numbers for each day.\n",
    "Step 11. Find the average windspeed in January for each location.\n",
    "Treat January 1961 and January 1962 both as January.\n",
    "Step 12. Downsample the record to a yearly frequency for each location.\n",
    "Step 13. Downsample the record to a monthly frequency for each location.\n",
    "Step 14. Downsample the record to a weekly frequency for each location.\n",
    "Step 15. Calculate the min, max and mean windspeeds and standard deviations of the windspeeds across all locations for each week (assume that the first week starts on January 2 1961) for the first 52 weeks."
   ]
  },
  {
   "cell_type": "code",
   "execution_count": 2,
   "metadata": {},
   "outputs": [
    {
     "name": "stdout",
     "output_type": "stream",
     "text": [
      "RPT    6\n",
      "VAL    3\n",
      "ROS    2\n",
      "KIL    5\n",
      "SHA    2\n",
      "BIR    0\n",
      "DUB    3\n",
      "CLA    2\n",
      "MUL    3\n",
      "CLO    1\n",
      "BEL    0\n",
      "MAL    4\n",
      "dtype: int64\n",
      "78857\n",
      "10.227883764282167\n",
      "      min    max       mean       std\n",
      "RPT  0.67  35.80  12.362987  5.618413\n",
      "VAL  0.21  33.37  10.644314  5.267356\n",
      "ROS  1.50  33.84  11.660526  5.008450\n",
      "KIL  0.00  28.46   6.306468  3.605811\n",
      "SHA  0.13  37.54  10.455834  4.936125\n",
      "BIR  0.00  26.16   7.092254  3.968683\n",
      "DUB  0.00  30.37   9.797343  4.977555\n",
      "CLA  0.00  31.08   8.495053  4.499449\n",
      "MUL  0.00  25.88   8.493590  4.166872\n",
      "CLO  0.04  28.21   8.707332  4.503954\n",
      "BEL  0.13  42.38  13.121007  5.835037\n",
      "MAL  0.67  42.54  15.599079  6.699794\n",
      "             min    max       mean       std\n",
      "Date                                        \n",
      "1961-01-01  9.29  18.50  13.018182  2.808875\n",
      "1961-01-02  6.50  17.54  11.336364  3.188994\n",
      "1961-01-03  6.17  18.50  11.641818  3.681912\n",
      "1961-01-04  1.79  11.75   6.619167  3.198126\n",
      "1961-01-05  6.17  13.33  10.630000  2.445356\n",
      "...          ...    ...        ...       ...\n",
      "1878-12-27  8.08  40.08  16.708333  7.868076\n",
      "1878-12-28  5.00  41.46  15.150000  9.687857\n",
      "1878-12-29  8.71  29.58  14.890000  5.756836\n",
      "1878-12-30  9.13  28.79  15.367500  5.540437\n",
      "1878-12-31  9.59  27.29  15.402500  5.702483\n",
      "\n",
      "[6574 rows x 4 columns]\n",
      "11.792825431736741\n",
      "                  RPT        VAL        ROS       KIL        SHA       BIR  \\\n",
      "Date                                                                         \n",
      "1870-12-31  12.600329  10.726932  11.730247  6.217178  10.567370  7.609452   \n",
      "1871-12-31  11.273123   9.095178  11.088329  5.241507   9.440329  6.097151   \n",
      "1872-12-31  12.463962  10.561311  12.058333  5.929699   9.430410  6.358825   \n",
      "1873-12-31  11.828466  10.680493  10.680493  5.547863   9.640877  6.548740   \n",
      "1874-12-31  13.643096  11.811781  12.336356  6.427041  11.110986  6.809781   \n",
      "...               ...        ...        ...       ...        ...       ...   \n",
      "1965-12-31  12.451370  11.075534  11.848767  6.858466  11.024795  7.478110   \n",
      "1966-12-31  13.461973  11.557205  12.020630  7.345726  11.805041  7.793671   \n",
      "1967-12-31  12.737151  10.990986  11.739397  7.143425  11.630740  7.368164   \n",
      "1968-12-31  11.835628  10.468197  11.409754  6.477678  10.760765  6.067322   \n",
      "1969-12-31  11.166356   9.723699  10.902000  5.767973   9.873918  6.189973   \n",
      "\n",
      "                  DUB       CLA       MUL       CLO        BEL        MAL  \n",
      "Date                                                                       \n",
      "1870-12-31   9.609890  8.334630  9.297616  8.289808  13.183644  16.456027  \n",
      "1871-12-31   8.385890  6.757315  7.915370  7.229753  12.208932  15.025233  \n",
      "1872-12-31   9.704508  7.680792  8.357295  7.515273  12.727377  15.028716  \n",
      "1873-12-31   8.482110  7.614274  8.245534  7.812411  12.169699  15.441096  \n",
      "1874-12-31  10.084603  9.896986  9.331753  8.736356  13.252959  16.947671  \n",
      "...               ...       ...       ...       ...        ...        ...  \n",
      "1965-12-31  10.618712  8.879918  7.907425  9.918082  12.964247  15.591644  \n",
      "1966-12-31  10.579808  8.835096  8.514438  9.768959  14.265836  16.307260  \n",
      "1967-12-31  10.652027  9.325616  8.645014  9.547425  14.774548  17.135945  \n",
      "1968-12-31   8.859180  8.255519  7.224945  7.832978  12.808634  15.017486  \n",
      "1969-12-31   8.564493  7.711397  7.924521  7.754384  12.621233  15.762904  \n",
      "\n",
      "[100 rows x 12 columns]\n",
      "                  RPT        VAL        ROS       KIL        SHA       BIR  \\\n",
      "Date                                                                         \n",
      "1870-01-31  13.152581  11.731935  13.083871  5.810968   9.507742  8.040323   \n",
      "1870-02-28  14.820714  13.776071  12.643929  6.894643  11.923929  7.954643   \n",
      "1870-03-31  14.941613  11.496129  13.180968  7.494194  11.484194  8.242581   \n",
      "1870-04-30  14.733333  11.843667  12.711333  7.316667  10.938333  8.707333   \n",
      "1870-05-31  10.185161   9.154194   9.720323  5.639677  10.465484  7.879355   \n",
      "...               ...        ...        ...       ...        ...       ...   \n",
      "1969-08-31  11.567419   9.656774   9.192581  5.661935   9.667097  6.407097   \n",
      "1969-09-30   8.544333   7.146000  10.698000  4.161667   8.561333  4.934000   \n",
      "1969-10-31  10.640968  10.424194  10.522581  5.803548  11.545161  7.075484   \n",
      "1969-11-30  12.462000  11.430667  12.141333  5.499667   9.828667  6.710000   \n",
      "1969-12-31  13.335806  11.969032  12.433226  5.446129   9.766129  7.532581   \n",
      "\n",
      "                  DUB        CLA        MUL        CLO        BEL        MAL  \n",
      "Date                                                                          \n",
      "1870-01-31   9.843226   8.834194   8.407097   7.626452  12.403871  17.192903  \n",
      "1870-02-28  11.837857   9.223214  10.339643   8.415357  14.899643  18.016786  \n",
      "1870-03-31  12.160968  10.082581  10.936774   9.710645  15.041290  19.093226  \n",
      "1870-04-30  11.171667   9.249667  10.004333  10.178333  13.237000  16.899667  \n",
      "1870-05-31   8.982258   8.938387   9.251935   8.784516  13.989355  15.335161  \n",
      "...               ...        ...        ...        ...        ...        ...  \n",
      "1969-08-31   7.070323   6.366452   7.568065   7.800323  11.952258  13.715161  \n",
      "1969-09-30   7.120333   6.839000   6.089333   6.203333  11.665000  14.972333  \n",
      "1969-10-31   8.483871   9.713226   8.495806   8.717419  15.348387  17.298710  \n",
      "1969-11-30  10.166333   8.304667   8.458000   7.864667  14.758667  20.094667  \n",
      "1969-12-31  10.076774   8.656774   8.801935   7.603226  13.511613  17.707097  \n",
      "\n",
      "[1200 rows x 12 columns]\n",
      "                  RPT        VAL        ROS       KIL        SHA        BIR  \\\n",
      "Date                                                                          \n",
      "1870-01-02   9.295000   3.625000   9.270000  4.000000   5.960000   5.330000   \n",
      "1870-01-09  13.667143  10.107143  14.188571  5.072857   7.821429   7.101429   \n",
      "1870-01-16   9.292857   8.897143   8.715714  3.552857   6.947143   5.290000   \n",
      "1870-01-23  18.785714  18.094286  17.387143  9.947143  14.272857  12.328571   \n",
      "1870-01-30  10.637143  10.750000  12.015714  4.167143   8.600000   7.125714   \n",
      "...               ...        ...        ...       ...        ...        ...   \n",
      "1969-12-07  14.934286  13.237143  11.287143  6.844286  11.268571   7.547143   \n",
      "1969-12-14  11.642857  10.227143   9.774286  3.804286   8.952857   6.690000   \n",
      "1969-12-21  12.938571  12.470000  14.254286  6.024286   9.851429   8.898571   \n",
      "1969-12-28  12.495714  10.922857   9.672857  4.374286   8.082857   6.187143   \n",
      "1970-01-04  16.443333  14.346667  23.503333  7.166667  11.886667   9.416667   \n",
      "\n",
      "                  DUB        CLA        MUL        CLO        BEL        MAL  \n",
      "Date                                                                          \n",
      "1870-01-02   8.790000   5.335000   8.440000   4.770000   8.750000  14.980000  \n",
      "1870-01-09  11.131429   7.880000   7.692857   6.250000  10.861429  18.237143  \n",
      "1870-01-16   6.714286   6.080000   6.168571   4.810000   8.280000  11.964286  \n",
      "1870-01-23  12.760000  13.601429  12.468571  13.355714  19.052857  23.028571  \n",
      "1870-01-30   7.968571   7.858571   6.281429   5.930000  11.100000  14.797143  \n",
      "...               ...        ...        ...        ...        ...        ...  \n",
      "1969-12-07  10.832857   9.620000  10.775714   8.188571  14.270000  19.334286  \n",
      "1969-12-14   7.864286   7.457143   6.560000   7.054286  13.895714  15.475714  \n",
      "1969-12-21  11.834286   9.052857   9.881429   8.648571  14.021429  19.374286  \n",
      "1969-12-28   7.571429   7.367143   6.757143   5.761429  12.447143  14.191429  \n",
      "1970-01-04  15.220000  11.293333  11.680000   9.376667  12.140000  23.430000  \n",
      "\n",
      "[5219 rows x 12 columns]\n",
      "                 min        max       mean       std\n",
      "Date                                                \n",
      "1870-01-02  3.625000  14.980000   7.378750  3.201212\n",
      "1870-01-09  5.072857  18.237143  10.000952  3.839752\n",
      "1870-01-16  3.552857  11.964286   7.226071  2.309946\n",
      "1870-01-23  9.947143  23.028571  15.423571  3.785347\n",
      "1870-01-30  4.167143  14.797143   8.935952  3.000251\n",
      "...              ...        ...        ...       ...\n",
      "1969-12-07  6.844286  19.334286  11.511667  3.525602\n",
      "1969-12-14  3.804286  15.475714   9.116548  3.310773\n",
      "1969-12-21  6.024286  19.374286  11.437500  3.506240\n",
      "1969-12-28  4.374286  14.191429   8.819286  3.092341\n",
      "1970-01-04  7.166667  23.503333  13.825278  5.188810\n",
      "\n",
      "[5219 rows x 4 columns]\n"
     ]
    }
   ],
   "source": [
    "#step1\n",
    "import pandas as pd\n",
    "import numpy as np\n",
    "\n",
    "#step2 and 3\n",
    "data=pd.read_csv('Wind.data.txt', sep=\"\\s+\",)\n",
    "data[\"Date\"] = pd.to_datetime(data[\"Yr\"].astype(str) + \"-\" + data[\"Mo\"].astype(str) + \"-\" + data[\"Dy\"].astype(str))\n",
    "data=data.drop(columns=['Yr', 'Mo','Dy'])\n",
    "\n",
    "#step4\n",
    "data[\"Date\"] = data[\"Date\"] + pd.DateOffset(years=-100)\n",
    "\n",
    "#step5\n",
    "data['Date'] = pd.to_datetime(data['Date'])\n",
    "data.set_index('Date', inplace=True)\n",
    "\n",
    "#step6\n",
    "count = data.isna().sum()\n",
    "print(count)\n",
    "\n",
    "#step7\n",
    "total_count=np.sum(data.count())\n",
    "print(total_count)\n",
    "\n",
    "#step8\n",
    "sum_all=data.sum().sum(skipna = True) \n",
    "mean_wind_speed=sum_all/total_count\n",
    "print(mean_wind_speed)\n",
    "\n",
    "#step9\n",
    "loc_stats={'min':data.min(),'max':data.max(),'mean':data.mean(skipna=True),'std':data.std()}\n",
    "loc_stats = pd.DataFrame (loc_stats, columns = ['min','max','mean','std'])\n",
    "print(loc_stats)\n",
    "\n",
    "#step10\n",
    "day_stats={'min':data.min(axis=1),'max':data.max(axis=1),'mean':data.mean(skipna=True,axis=1),'std':data.std(axis=1)}\n",
    "day_stats = pd.DataFrame (day_stats, columns = ['min','max','mean','std'])\n",
    "print(day_stats)\n",
    "\n",
    "#step11\n",
    "jan_avg=data.mean(axis=1,skipna=True)\n",
    "jan_avg=jan_avg.groupby(jan_avg.index.month).mean()\n",
    "jan_avg=jan_avg.iloc[0]\n",
    "print(jan_avg)\n",
    "\n",
    "#step12\n",
    "yearly_resampled_data = data.resample('Y').mean() \n",
    "print(yearly_resampled_data)\n",
    "\n",
    "#step13\n",
    "monthly_resampled_data = data.resample('M').mean() \n",
    "print(monthly_resampled_data)\n",
    "\n",
    "#step14\n",
    "weekly_resampled_data = data.resample('W').mean() \n",
    "print(weekly_resampled_data)\n",
    "\n",
    "#step15\n",
    "week_stats={'min':weekly_resampled_data.min(axis=1),'max':weekly_resampled_data.max(axis=1),'mean':weekly_resampled_data.mean(skipna=True,axis=1),'std':weekly_resampled_data.std(axis=1)}\n",
    "week_stats = pd.DataFrame (week_stats, columns = ['min','max','mean','std'])\n",
    "print(week_stats)\n"
   ]
  },
  {
   "cell_type": "markdown",
   "metadata": {},
   "source": [
    "QUESTION:5\n",
    "\n",
    "Step 1. Import the necessary libraries\n",
    "Step 2. Import the dataset from this address.\n",
    "Step 3. Assign it to a variable called chipo.\n",
    "Step 4. See the first 10 entries\n",
    "Step 5. What is the number of observations in the dataset?\n",
    "Step 6. What is the number of columns in the dataset?\n",
    "Step 7. Print the name of all the columns.\n",
    "Step 8. How is the dataset indexed?\n",
    "Step 9. Which was the most-ordered item?\n",
    "Step 10. For the most-ordered item, how many items were ordered?\n",
    "Step 11. What was the most ordered item in the choice_description column?\n",
    "Step 12. How many items were orderd in total?\n",
    "Step 13.\n",
    "• Turn the item price into a float\n",
    "• Check the item price type\n",
    "• Create a lambda function and change the type of item price\n",
    "• Check the item price type\n",
    "Step 14. How much was the revenue for the period in the dataset?\n",
    "Step 15. How many orders were made in the period?\n",
    "Step 16. What is the average revenue amount per order?\n",
    "Step 17. How many different items are sold?"
   ]
  },
  {
   "cell_type": "code",
   "execution_count": 3,
   "metadata": {},
   "outputs": [
    {
     "name": "stdout",
     "output_type": "stream",
     "text": [
      "   order_id  quantity                              item_name  \\\n",
      "0         1         1           Chips and Fresh Tomato Salsa   \n",
      "1         1         1                                   Izze   \n",
      "2         1         1                       Nantucket Nectar   \n",
      "3         1         1  Chips and Tomatillo-Green Chili Salsa   \n",
      "4         2         2                           Chicken Bowl   \n",
      "5         3         1                           Chicken Bowl   \n",
      "6         3         1                          Side of Chips   \n",
      "7         4         1                          Steak Burrito   \n",
      "8         4         1                       Steak Soft Tacos   \n",
      "9         5         1                          Steak Burrito   \n",
      "\n",
      "                                  choice_description item_price  \n",
      "0                                                NaN     $2.39   \n",
      "1                                       [Clementine]     $3.39   \n",
      "2                                            [Apple]     $3.39   \n",
      "3                                                NaN     $2.39   \n",
      "4  [Tomatillo-Red Chili Salsa (Hot), [Black Beans...    $16.98   \n",
      "5  [Fresh Tomato Salsa (Mild), [Rice, Cheese, Sou...    $10.98   \n",
      "6                                                NaN     $1.69   \n",
      "7  [Tomatillo Red Chili Salsa, [Fajita Vegetables...    $11.75   \n",
      "8  [Tomatillo Green Chili Salsa, [Pinto Beans, Ch...     $9.25   \n",
      "9  [Fresh Tomato Salsa, [Rice, Black Beans, Pinto...     $9.25   \n",
      "      order_id  quantity                              item_name  \\\n",
      "0            1         1           Chips and Fresh Tomato Salsa   \n",
      "1            1         1                                   Izze   \n",
      "2            1         1                       Nantucket Nectar   \n",
      "3            1         1  Chips and Tomatillo-Green Chili Salsa   \n",
      "4            2         2                           Chicken Bowl   \n",
      "...        ...       ...                                    ...   \n",
      "4617      1833         1                          Steak Burrito   \n",
      "4618      1833         1                          Steak Burrito   \n",
      "4619      1834         1                     Chicken Salad Bowl   \n",
      "4620      1834         1                     Chicken Salad Bowl   \n",
      "4621      1834         1                     Chicken Salad Bowl   \n",
      "\n",
      "                                     choice_description item_price  \n",
      "0                                                   NaN     $2.39   \n",
      "1                                          [Clementine]     $3.39   \n",
      "2                                               [Apple]     $3.39   \n",
      "3                                                   NaN     $2.39   \n",
      "4     [Tomatillo-Red Chili Salsa (Hot), [Black Beans...    $16.98   \n",
      "...                                                 ...        ...  \n",
      "4617  [Fresh Tomato Salsa, [Rice, Black Beans, Sour ...    $11.75   \n",
      "4618  [Fresh Tomato Salsa, [Rice, Sour Cream, Cheese...    $11.75   \n",
      "4619  [Fresh Tomato Salsa, [Fajita Vegetables, Pinto...    $11.25   \n",
      "4620  [Fresh Tomato Salsa, [Fajita Vegetables, Lettu...     $8.75   \n",
      "4621  [Fresh Tomato Salsa, [Fajita Vegetables, Pinto...     $8.75   \n",
      "\n",
      "[4622 rows x 5 columns]\n",
      "Index(['order_id', 'quantity', 'item_name', 'choice_description',\n",
      "       'item_price'],\n",
      "      dtype='object')\n",
      "quantity    3598\n",
      "dtype: int64\n",
      "15\n",
      "Chips and Fresh Tomato Salsa\n",
      "<bound method IndexOpsMixin.nunique of 0                                                     NaN\n",
      "1                                            [Clementine]\n",
      "2                                                 [Apple]\n",
      "3                                                     NaN\n",
      "4       [Tomatillo-Red Chili Salsa (Hot), [Black Beans...\n",
      "                              ...                        \n",
      "4617    [Fresh Tomato Salsa, [Rice, Black Beans, Sour ...\n",
      "4618    [Fresh Tomato Salsa, [Rice, Sour Cream, Cheese...\n",
      "4619    [Fresh Tomato Salsa, [Fajita Vegetables, Pinto...\n",
      "4620    [Fresh Tomato Salsa, [Fajita Vegetables, Lettu...\n",
      "4621    [Fresh Tomato Salsa, [Fajita Vegetables, Pinto...\n",
      "Name: choice_description, Length: 4622, dtype: object>\n",
      "4972\n",
      "revenue39237.02\n",
      "num_of_ordersorder_id    1834\n",
      "dtype: int64\n",
      "order_id    21.394231\n",
      "dtype: float64\n",
      "50\n"
     ]
    }
   ],
   "source": [
    "#step1\n",
    "import pandas as pd\n",
    "import numpy as np\n",
    "#step2 and step3\n",
    "chipo=pd.read_csv('chipotle.tsv', sep='\\t')\n",
    "\n",
    "#step4\n",
    "print(chipo.head(10))\n",
    "\n",
    "#step5 and 6\n",
    "print(chipo)\n",
    "\n",
    "# step7 and 8\n",
    "print(chipo.columns)\n",
    "\n",
    "#step9 10 11 12\n",
    "print(chipo[['quantity']].idxmax())\n",
    "print(chipo['quantity'][3598])\n",
    "print(chipo['item_name'][3598])\n",
    "print(chipo['choice_description'].nunique)\n",
    "print(chipo['quantity'].sum())\n",
    "\n",
    "#step13\n",
    "chipo['item_price'] = chipo['item_price'].str.replace('$', '')\n",
    "chipo['item_price'].dtype\n",
    "chipo['item_price']=chipo['item_price'].astype('float')\n",
    "chipo['item_price'].dtype\n",
    "\n",
    "#step14\n",
    "chipo[\"product\"] = chipo[\"quantity\"] * chipo[\"item_price\"]\n",
    "revenue=chipo['product'].sum()\n",
    "print('revenue'+str(revenue))\n",
    "\n",
    "#step15\n",
    "number_of_orders=chipo[['order_id']].max()\n",
    "print('num_of_orders'+str(number_of_orders))\n",
    "\n",
    "#step16\n",
    "avg_revenue=revenue/number_of_orders\n",
    "print(avg_revenue)\n",
    "\n",
    "#step17\n",
    "item_counts = chipo[\"item_name\"].nunique()\n",
    "print(item_counts)"
   ]
  },
  {
   "cell_type": "markdown",
   "metadata": {},
   "source": [
    "QUESTION:6\n",
    "\n",
    "Create a line plot showing the number of marriages and divorces per capita in the U.S. between 1867 and 2014. Label both lines and show the legend.\n",
    "Don't forget to label your axes!"
   ]
  },
  {
   "cell_type": "code",
   "execution_count": 4,
   "metadata": {},
   "outputs": [
    {
     "data": {
      "image/png": "[encoded data removed]",
      "text/plain": [
       "<Figure size 432x288 with 1 Axes>"
      ]
     },
     "metadata": {
      "needs_background": "light"
     },
     "output_type": "display_data"
    }
   ],
   "source": [
    "import pandas as pd\n",
    "import numpy as np\n",
    "import matplotlib.pyplot as plt\n",
    "\n",
    "\n",
    "mrg=pd.read_csv('us-marriages-divorces-1867-2014.csv')\n",
    "mrg.plot(x='Year',y=['Marriages','Divorces'])\n",
    "plt.ylabel('Marriages and Divorces')\n",
    "plt.show()"
   ]
  },
  {
   "cell_type": "markdown",
   "metadata": {},
   "source": [
    "QUESTION:7\n",
    "\n",
    "Create a vertical bar chart comparing the number of marriages and divorces per capita in the U.S. between 1900, 1950, and 2000.\n",
    "Don't forget to label your axes!"
   ]
  },
  {
   "cell_type": "code",
   "execution_count": 5,
   "metadata": {},
   "outputs": [
    {
     "data": {
      "image/png": "[encoded data removed]",
      "text/plain": [
       "<Figure size 576x576 with 1 Axes>"
      ]
     },
     "metadata": {
      "needs_background": "light"
     },
     "output_type": "display_data"
    }
   ],
   "source": [
    "import pandas as pd\n",
    "import numpy as np\n",
    "import matplotlib.pyplot as plt\n",
    "\n",
    "\n",
    "mrg=pd.read_csv('us-marriages-divorces-1867-2014.csv')\n",
    "sub_mrg=mrg[(mrg.Year==1900) | (mrg.Year==1950) | (mrg.Year==2000)]\n",
    "sub_mrg.plot(x='Year',y=['Marriages','Divorces'], kind=\"bar\",figsize=(8,8))\n",
    "plt.xlabel('Years')\n",
    "plt.ylabel('Marriages and Divorces')\n",
    "plt.show()"
   ]
  },
  {
   "cell_type": "markdown",
   "metadata": {},
   "source": [
    "QUESTION:8\n",
    "\n",
    "Create a horizontal bar chart that compares the deadliest actors in Hollywood. Sort the actors by their kill count and label each bar with the corresponding actor's name. Don't forget to label your axes!"
   ]
  },
  {
   "cell_type": "code",
   "execution_count": 10,
   "metadata": {},
   "outputs": [
    {
     "data": {
      "image/png": "[encoded data removed]",
      "text/plain": [
       "<Figure size 1440x720 with 1 Axes>"
      ]
     },
     "metadata": {
      "needs_background": "light"
     },
     "output_type": "display_data"
    }
   ],
   "source": [
    "import pandas as pd\n",
    "import numpy as np\n",
    "import matplotlib.pyplot as plt\n",
    "\n",
    "\n",
    "kill=pd.read_csv('actor_kill_counts.csv')\n",
    "\n",
    "kill=kill.sort_values(['Count'])\n",
    "kill = kill.reset_index(drop=True)\n",
    "\n",
    "kill.plot.barh('Actor','Count',figsize=(20,10))\n",
    "plt.xlabel('Actor')\n",
    "plt.ylabel('Count')\n",
    "plt.yticks([])\n",
    "for index, value in enumerate(kill['Count']):\n",
    "    plt.text(value, index, kill.loc[index,'Actor'])\n",
    "plt.show()"
   ]
  },
  {
   "cell_type": "markdown",
   "metadata": {},
   "source": [
    "QUESTION:9\n",
    "\n",
    "Create a pie chart showing the fraction of all Roman Emperors that were assassinated.\n",
    "Make sure that the pie chart is an even circle, labels the categories, and shows the percentage breakdown of the categories."
   ]
  },
  {
   "cell_type": "code",
   "execution_count": 11,
   "metadata": {},
   "outputs": [
    {
     "data": {
      "image/png": "[encoded data removed]",
      "text/plain": [
       "<Figure size 432x288 with 1 Axes>"
      ]
     },
     "metadata": {},
     "output_type": "display_data"
    }
   ],
   "source": [
    "import pandas as pd\n",
    "import numpy as np\n",
    "import matplotlib.pyplot as plt\n",
    "\n",
    "\n",
    "empr=pd.read_csv('roman-emperor-reigns.csv')\n",
    "data=empr[\"Cause_of_Death\"].value_counts()\n",
    "plt.pie(data,labels=data.index, autopct='%1.0f%%',explode=(0.15, 0, 0, 0,0 ,0,0,0)) \n",
    "plt.show()"
   ]
  },
  {
   "cell_type": "markdown",
   "metadata": {},
   "source": [
    "QUESTION:10\n",
    "\n",
    "Create a scatter plot showing the relationship between the total revenue earned by arcades and the number of Computer Science PhDs awarded in the U.S. between 2000 and 2009.\n",
    "Don't forget to label your axes!\n",
    "Color each dot according to its year."
   ]
  },
  {
   "cell_type": "code",
   "execution_count": 12,
   "metadata": {},
   "outputs": [
    {
     "data": {
      "image/png": "[encoded data removed]",
      "text/plain": [
       "<Figure size 576x576 with 3 Axes>"
      ]
     },
     "metadata": {
      "needs_background": "light"
     },
     "output_type": "display_data"
    }
   ],
   "source": [
    "import pandas as pd\n",
    "import numpy as np\n",
    "import matplotlib.pyplot as plt\n",
    "\n",
    "\n",
    "edu=pd.read_csv('C:\\\\Users\\\\mehul\\\\Desktop\\\\assignment\\\\arcade-revenue-vs-cs-doctorates.csv')\n",
    "\n",
    "ax1=edu.plot.scatter(x = 'Year', y = 'Total Arcade Revenue (billions)' ,c='Total Arcade Revenue (billions)', colormap='jet',figsize=(8,8))\n",
    "\n",
    "edu.plot.scatter(x = 'Year', y = 'Computer Science Doctorates Awarded (US)',ax=ax1 ,c='Computer Science Doctorates Awarded (US)', colormap='viridis')\n",
    "plt.ylabel('awards and revenue')\n",
    "plt.show()"
   ]
  },
  {
   "cell_type": "code",
   "execution_count": null,
   "metadata": {},
   "outputs": [],
   "source": []
  }
 ],
 "metadata": {
  "anaconda-cloud": {},
  "kernelspec": {
   "display_name": "Python 3",
   "language": "python",
   "name": "python3"
  },
  "language_info": {
   "codemirror_mode": {
    "name": "ipython",
    "version": 3
   },
   "file_extension": ".py",
   "mimetype": "text/x-python",
   "name": "python",
   "nbconvert_exporter": "python",
   "pygments_lexer": "ipython3",
   "version": "3.8.3"
  }
 },
 "nbformat": 4,
 "nbformat_minor": 4
}
